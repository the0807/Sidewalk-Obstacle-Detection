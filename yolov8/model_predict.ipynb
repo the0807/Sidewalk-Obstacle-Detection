{
 "cells": [
  {
   "cell_type": "code",
   "execution_count": null,
   "metadata": {},
   "outputs": [],
   "source": [
    "from ultralytics import YOLO\n",
    "import opencv_jupyter_ui as jcv2\n",
    "\n",
    "# Load a model\n",
    "model = YOLO('/home/students/cs/201920962/yolov8/obstacle_model/train/weights/best.pt')  # pretrained YOLOv8n model\n",
    "\n",
    "# Run batched inference on a list of images\n",
    "results = model(\n",
    "    [\n",
    "    '/home/students/cs/201920962/yolov8/test_img/test1.jpg', \n",
    "    '/home/students/cs/201920962/yolov8/test_img/test2.jpg' \n",
    "    ],\n",
    "    save=True,\n",
    "    #conf=0.5,\n",
    "    project='/home/students/cs/201920962/yolov8/obstacle_model'\n",
    ")  # return a list of Results objects\n",
    "\n",
    "# Process results list\n",
    "for result in results:\n",
    "    boxes = result.boxes  # Boxes object for bbox outputs\n",
    "    masks = result.masks  # Masks object for segmentation masks outputs\n",
    "    keypoints = result.keypoints  # Keypoints object for pose outputs\n",
    "    probs = result.probs  # Probs object for classification outputs\n",
    "\n",
    "    plots = result.plot()\n",
    "    jcv2.imshow(\"plot\", plots)\n",
    "    jcv2.waitKey(100)\n",
    "    jcv2.destroyAllWindows()"
   ]
  },
  {
   "cell_type": "code",
   "execution_count": null,
   "metadata": {},
   "outputs": [],
   "source": []
  }
 ],
 "metadata": {
  "kernelspec": {
   "display_name": "ADViS",
   "language": "python",
   "name": "python3"
  },
  "language_info": {
   "codemirror_mode": {
    "name": "ipython",
    "version": 3
   },
   "file_extension": ".py",
   "mimetype": "text/x-python",
   "name": "python",
   "nbconvert_exporter": "python",
   "pygments_lexer": "ipython3",
   "version": "3.10.13"
  }
 },
 "nbformat": 4,
 "nbformat_minor": 2
}
